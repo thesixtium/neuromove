{
 "cells": [
  {
   "cell_type": "code",
   "execution_count": 49,
   "id": "66aa4e27-aa9d-4f6e-99f6-e37d6958381a",
   "metadata": {},
   "outputs": [],
   "source": [
    "import math"
   ]
  },
  {
   "cell_type": "code",
   "execution_count": 38,
   "id": "752345e0-1d39-4afd-966e-2df35716c8cd",
   "metadata": {},
   "outputs": [],
   "source": [
    "grid = [\n",
    "    [0, 0, 1, 0, 1],\n",
    "    [0, 0, 1, 0, 0],\n",
    "    [0, 0, 1, 0, 0],\n",
    "    [0, 0, 0, 0, 0],\n",
    "    [1, 1, 1, 1, 1]\n",
    "]"
   ]
  },
  {
   "cell_type": "code",
   "execution_count": 3,
   "id": "43e66385-e122-42e6-9448-daa30c6d4c9d",
   "metadata": {},
   "outputs": [],
   "source": [
    "def move_forward(grid):\n",
    "    new_grid = []\n",
    "    for row in grid[1:]:\n",
    "        new_grid.append(row)\n",
    "    new_grid.append([0 for _ in grid[0]])\n",
    "    return new_grid"
   ]
  },
  {
   "cell_type": "code",
   "execution_count": 5,
   "id": "33426482-373d-491d-8ab3-b580f44c01db",
   "metadata": {},
   "outputs": [],
   "source": [
    "def move_back(grid):\n",
    "    new_grid = []\n",
    "    new_grid.append([0 for _ in grid[0]])\n",
    "    for row in grid[:-1]:\n",
    "        new_grid.append(row)\n",
    "    return new_grid"
   ]
  },
  {
   "cell_type": "code",
   "execution_count": 44,
   "id": "87db584f-97bd-433a-9cec-7a0d01631e2f",
   "metadata": {},
   "outputs": [],
   "source": [
    "def rotate_left( m ):\n",
    "    r = []\n",
    "    i = 0\n",
    "    for row in grid:\n",
    "      listToAdd = [item[i] for item in grid]\n",
    "      r.append(listToAdd)\n",
    "      i +=1\n",
    "    return r[::-1]"
   ]
  },
  {
   "cell_type": "code",
   "execution_count": 45,
   "id": "f762cfba-b140-40ad-bdc9-15142ebca6bb",
   "metadata": {},
   "outputs": [],
   "source": [
    "def rotate_right( m ):\n",
    "    r = []\n",
    "    i = 0\n",
    "    for row in grid:\n",
    "      listToAdd = [item[i] for item in grid]\n",
    "      r.append(listToAdd[::-1])\n",
    "      i +=1\n",
    "    return r"
   ]
  },
  {
   "cell_type": "code",
   "execution_count": 77,
   "id": "3a47d5fc-953b-44a8-a056-3e5b73dbfafe",
   "metadata": {},
   "outputs": [],
   "source": [
    "def mulMat(m1, m2):\n",
    "    r1 = len(m1)\n",
    "    c1 = len(m1[0])\n",
    "    r2 = len(m2)\n",
    "    c2 = len(m2[0])\n",
    "\n",
    "    if c1 != r2:\n",
    "        print(\"Invalid Input\")\n",
    "        return None\n",
    "\n",
    "    # Initialize the result matrix with zeros\n",
    "    res = [[0] * c2 for _ in range(r1)]\n",
    "\n",
    "    # Perform matrix multiplication\n",
    "    for i in range(r1):\n",
    "        for j in range(c2):\n",
    "            for k in range(c1):\n",
    "                res[i][j] += m1[i][k] * m2[k][j]\n",
    "\n",
    "    return res"
   ]
  },
  {
   "cell_type": "code",
   "execution_count": 87,
   "id": "3b5d2b17-c1f0-4064-be56-1dfb24b54bac",
   "metadata": {},
   "outputs": [],
   "source": [
    "def transposeMatrix(m):\n",
    "    return list(map(list,zip(*m)))\n",
    "\n",
    "def getMatrixMinor(m,i,j):\n",
    "    return [row[:j] + row[j+1:] for row in (m[:i]+m[i+1:])]\n",
    "\n",
    "def getMatrixDeternminant(m):\n",
    "    #base case for 2x2 matrix\n",
    "    if len(m) == 2:\n",
    "        return m[0][0]*m[1][1]-m[0][1]*m[1][0]\n",
    "\n",
    "    determinant = 0\n",
    "    for c in range(len(m)):\n",
    "        determinant += ((-1)**c)*m[0][c]*getMatrixDeternminant(getMatrixMinor(m,0,c))\n",
    "    return determinant\n",
    "\n",
    "def getMatrixInverse(m):\n",
    "    determinant = getMatrixDeternminant(m)\n",
    "    #special case for 2x2 matrix:\n",
    "    if len(m) == 2:\n",
    "        return [[m[1][1]/determinant, -1*m[0][1]/determinant],\n",
    "                [-1*m[1][0]/determinant, m[0][0]/determinant]]\n",
    "\n",
    "    #find matrix of cofactors\n",
    "    cofactors = []\n",
    "    for r in range(len(m)):\n",
    "        cofactorRow = []\n",
    "        for c in range(len(m)):\n",
    "            minor = getMatrixMinor(m,r,c)\n",
    "            cofactorRow.append(((-1)**(r+c)) * getMatrixDeternminant(minor))\n",
    "        cofactors.append(cofactorRow)\n",
    "    cofactors = transposeMatrix(cofactors)\n",
    "    for r in range(len(cofactors)):\n",
    "        for c in range(len(cofactors)):\n",
    "            cofactors[r][c] = cofactors[r][c]/determinant\n",
    "    return cofactors"
   ]
  },
  {
   "cell_type": "code",
   "execution_count": null,
   "id": "008a85f4-4d09-450d-b89b-4935bbac8919",
   "metadata": {},
   "outputs": [],
   "source": [
    "USE LIDAR'S IMU FOR TURNS AND DRIVING\n",
    "DOES MEAN NEED TO IMPLEMENT x DEGREE MATRIX ROTATIONS\n",
    "https://math.stackexchange.com/questions/1676441/how-to-rotate-the-positions-of-a-matrix-by-90-degrees"
   ]
  },
  {
   "cell_type": "code",
   "execution_count": 194,
   "id": "211c3655-0184-42c7-a393-a029cda51c6d",
   "metadata": {},
   "outputs": [],
   "source": [
    "def rotate_point(coordinate, center, angle):\n",
    "    x, y = coordinate\n",
    "    around_x, around_y = center\n",
    "    t = angle * (math.pi / 180)\n",
    "    return round(( (x-around_x) * math.cos(t)) + ( (y-around_y) * -math.sin(t) ) + around_x), round(((x-around_x) * math.sin(t)) + ( (y-around_y) * math.cos(t) ) + around_y)"
   ]
  },
  {
   "cell_type": "code",
   "execution_count": 197,
   "id": "0a1c9507-0979-4cd6-9ec9-0516b3c6a651",
   "metadata": {},
   "outputs": [],
   "source": [
    "grid2 = [\n",
    "    [0, 1, 0],\n",
    "    [0, 0, 0],\n",
    "    [0, 0, 0]\n",
    "]"
   ]
  },
  {
   "cell_type": "code",
   "execution_count": 205,
   "id": "b9718aca-db32-4085-9f95-1972a4fe8c0c",
   "metadata": {},
   "outputs": [
    {
     "name": "stdout",
     "output_type": "stream",
     "text": [
      "(0, 2) -> (2, 4)\n",
      "(0, 2) -> (2, 4)\n",
      "(0, 4) -> (4, 4)\n",
      "(0, 4) -> (4, 4)\n",
      "(1, 2) -> (2, 3)\n",
      "(1, 2) -> (2, 3)\n",
      "(2, 2) -> (2, 2)\n",
      "(2, 2) -> (2, 2)\n",
      "(4, 0) -> (0, 0)\n",
      "(4, 0) -> (0, 0)\n",
      "(4, 1) -> (1, 0)\n",
      "(4, 1) -> (1, 0)\n",
      "(4, 2) -> (2, 0)\n",
      "(4, 2) -> (2, 0)\n",
      "(4, 3) -> (3, 0)\n",
      "(4, 3) -> (3, 0)\n",
      "(4, 4) -> (4, 0)\n",
      "(4, 4) -> (4, 0)\n"
     ]
    },
    {
     "data": {
      "text/plain": [
       "[[1, 0, 0, 0, 0],\n",
       " [1, 0, 0, 0, 0],\n",
       " [1, 0, 1, 1, 1],\n",
       " [1, 0, 0, 0, 0],\n",
       " [1, 0, 0, 0, 1]]"
      ]
     },
     "execution_count": 205,
     "metadata": {},
     "output_type": "execute_result"
    }
   ],
   "source": [
    "old_grid = grid\n",
    "new_grid = [[0 for _ in old_grid[0]] for _ in old_grid]\n",
    "\n",
    "for x in range(len(old_grid)):\n",
    "    for y in range(len(old_grid[0])):\n",
    "        if old_grid[x][y] == 1:\n",
    "            new_x, new_y = rotate_point((x, y), (int(len(old_grid)/2), int(len(old_grid)/2)), -90)\n",
    "            print(f\"({x}, {y}) -> ({new_x}, {new_y})\")\n",
    "            while new_x > len(old_grid) - 1:\n",
    "                new_x = new_x - 1\n",
    "            while new_y > len(old_grid) - 1:\n",
    "                new_y = new_y - 1\n",
    "            print(f\"({x}, {y}) -> ({new_x}, {new_y})\")\n",
    "            new_grid[new_x][new_y] = 1\n",
    "\n",
    "new_grid"
   ]
  },
  {
   "cell_type": "code",
   "execution_count": null,
   "id": "25e57170-cae9-4c58-b4b3-b771a1970b5c",
   "metadata": {},
   "outputs": [],
   "source": []
  }
 ],
 "metadata": {
  "kernelspec": {
   "display_name": "Python 3 (ipykernel)",
   "language": "python",
   "name": "python3"
  },
  "language_info": {
   "codemirror_mode": {
    "name": "ipython",
    "version": 3
   },
   "file_extension": ".py",
   "mimetype": "text/x-python",
   "name": "python",
   "nbconvert_exporter": "python",
   "pygments_lexer": "ipython3",
   "version": "3.13.0"
  }
 },
 "nbformat": 4,
 "nbformat_minor": 5
}
